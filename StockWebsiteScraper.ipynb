{
  "nbformat": 4,
  "nbformat_minor": 0,
  "metadata": {
    "colab": {
      "name": "StockWebsiteScraper.ipynb",
      "provenance": [],
      "collapsed_sections": []
    },
    "kernelspec": {
      "name": "python3",
      "display_name": "Python 3"
    }
  },
  "cells": [
    {
      "cell_type": "code",
      "metadata": {
        "id": "wLwbaCEBRzUa"
      },
      "source": [
        "#Description: This program scrapes stock tickers and their company name from a website "
      ],
      "execution_count": null,
      "outputs": []
    },
    {
      "cell_type": "code",
      "metadata": {
        "id": "066Q42i8R7np"
      },
      "source": [
        "import requests \r\n",
        "import pandas as pd \r\n",
        "from bs4 import BeautifulSoup "
      ],
      "execution_count": 12,
      "outputs": []
    },
    {
      "cell_type": "code",
      "metadata": {
        "id": "YWnc3mLCSJ7V"
      },
      "source": [
        "#Create two empy lists for the company name and company ticker \r\n",
        "company_name = []\r\n",
        "company_ticker = []"
      ],
      "execution_count": 57,
      "outputs": []
    },
    {
      "cell_type": "code",
      "metadata": {
        "id": "8u5Is-UNTiYI"
      },
      "source": [
        "URL = 'https://www.advfn.com/nyse/newyorkstockexchange.asp?companies=A'\r\n",
        "page = requests.get(URL)\r\n",
        "soup = BeautifulSoup(page.text, 'html.parser')\r\n",
        "odd_rows = soup.find_all('tr', attrs={'class':'ts0'})\r\n",
        "even_rows = soup.find_all('tr', attrs={'class' : 'ts1'})"
      ],
      "execution_count": 42,
      "outputs": []
    },
    {
      "cell_type": "code",
      "metadata": {
        "id": "d-pmt-AHU_jG"
      },
      "source": [
        "for i in odd_rows:\r\n",
        "  row = i.find_all('td')\r\n",
        "  company_name.append(row[0].text.strip()) #CompanyName\r\n",
        "  company_ticker.append(row[1].text.strip()) #Ticker\r\n",
        "\r\n",
        "for i in even_rows:\r\n",
        "  row = i.find_all('td')\r\n",
        "  company_name.append(row[0].text.strip()) #CompanyName\r\n",
        "  company_ticker.append(row[1].text.strip()) #Ticker"
      ],
      "execution_count": 43,
      "outputs": []
    },
    {
      "cell_type": "code",
      "metadata": {
        "id": "Y69mg4ypYWTk"
      },
      "source": [
        "#Create a function to scrape the data \r\n",
        "def scrape_stock_symbols(Letter): \r\n",
        "  Letter = Letter.upper()\r\n",
        "  URL = 'https://www.advfn.com/nyse/newyorkstockexchange.asp?companies='+Letter\r\n",
        "  page = requests.get(URL)\r\n",
        "  soup = BeautifulSoup(page.text, 'html.parser')\r\n",
        "  odd_rows = soup.find_all('tr', attrs={'class':'ts0'})\r\n",
        "  even_rows = soup.find_all('tr', attrs={'class' : 'ts1'})\r\n",
        "\r\n",
        "  for i in odd_rows:\r\n",
        "    row = i.find_all('td')\r\n",
        "    company_name.append(row[0].text.strip()) #CompanyName\r\n",
        "    company_ticker.append(row[1].text.strip()) #Ticker\r\n",
        "\r\n",
        "  for i in even_rows:\r\n",
        "    row = i.find_all('td')\r\n",
        "    company_name.append(row[0].text.strip()) #CompanyName\r\n",
        "    company_ticker.append(row[1].text.strip()) #Ticker\r\n",
        "\r\n",
        "  return (company_name, company_ticker)"
      ],
      "execution_count": 50,
      "outputs": []
    },
    {
      "cell_type": "code",
      "metadata": {
        "id": "5VhlQeKdZDUO"
      },
      "source": [
        "(temp_name, temp_ticker) = scrape_stock_symbols('b')\r\n",
        "temp_name"
      ],
      "execution_count": null,
      "outputs": []
    },
    {
      "cell_type": "code",
      "metadata": {
        "colab": {
          "base_uri": "https://localhost:8080/",
          "height": 35
        },
        "id": "fXzM3-ssZgKW",
        "outputId": "da258404-8118-4f66-b75d-03443b2608f6"
      },
      "source": [
        "#Get a list of every letter in the alphabet \r\n",
        "import string \r\n",
        "string.ascii_uppercase"
      ],
      "execution_count": 54,
      "outputs": [
        {
          "output_type": "execute_result",
          "data": {
            "application/vnd.google.colaboratory.intrinsic+json": {
              "type": "string"
            },
            "text/plain": [
              "'ABCDEFGHIJKLMNOPQRSTUVWXYZ'"
            ]
          },
          "metadata": {
            "tags": []
          },
          "execution_count": 54
        }
      ]
    },
    {
      "cell_type": "code",
      "metadata": {
        "id": "ResQmdorZo1X"
      },
      "source": [
        "#Loop through every letter in the alphabet to get all ofo the tickers and copmnay names from the website \r\n",
        "for char in string.ascii_uppercase: \r\n",
        "  (temp_name, temp_ticker) = scrape_stock_symbols(char)"
      ],
      "execution_count": 58,
      "outputs": []
    },
    {
      "cell_type": "code",
      "metadata": {
        "colab": {
          "base_uri": "https://localhost:8080/",
          "height": 419
        },
        "id": "Yb8OEndQaQ8d",
        "outputId": "d4db7c16-b7c7-47f3-9824-50d011067efd"
      },
      "source": [
        "#Create a dataframe that contains the company name and company ticker \r\n",
        "data= pd.DataFrame(columns = ['company_name', 'company_ticker'])\r\n",
        "data['company_name'] = temp_name \r\n",
        "data['company_ticker'] = temp_ticker \r\n",
        "#Show data \r\n",
        "data"
      ],
      "execution_count": 61,
      "outputs": [
        {
          "output_type": "execute_result",
          "data": {
            "text/html": [
              "<div>\n",
              "<style scoped>\n",
              "    .dataframe tbody tr th:only-of-type {\n",
              "        vertical-align: middle;\n",
              "    }\n",
              "\n",
              "    .dataframe tbody tr th {\n",
              "        vertical-align: top;\n",
              "    }\n",
              "\n",
              "    .dataframe thead th {\n",
              "        text-align: right;\n",
              "    }\n",
              "</style>\n",
              "<table border=\"1\" class=\"dataframe\">\n",
              "  <thead>\n",
              "    <tr style=\"text-align: right;\">\n",
              "      <th></th>\n",
              "      <th>company_name</th>\n",
              "      <th>company_ticker</th>\n",
              "    </tr>\n",
              "  </thead>\n",
              "  <tbody>\n",
              "    <tr>\n",
              "      <th>0</th>\n",
              "      <td>A H Belo Corporation</td>\n",
              "      <td>AHC</td>\n",
              "    </tr>\n",
              "    <tr>\n",
              "      <th>1</th>\n",
              "      <td>AAC Holdings Inc</td>\n",
              "      <td>AAC</td>\n",
              "    </tr>\n",
              "    <tr>\n",
              "      <th>2</th>\n",
              "      <td>ABB Ltd</td>\n",
              "      <td>ABB</td>\n",
              "    </tr>\n",
              "    <tr>\n",
              "      <th>3</th>\n",
              "      <td>ADC Therapeutics SA</td>\n",
              "      <td>ADCT</td>\n",
              "    </tr>\n",
              "    <tr>\n",
              "      <th>4</th>\n",
              "      <td>AEABridges Impact Corp</td>\n",
              "      <td>IMPX</td>\n",
              "    </tr>\n",
              "    <tr>\n",
              "      <th>...</th>\n",
              "      <td>...</td>\n",
              "      <td>...</td>\n",
              "    </tr>\n",
              "    <tr>\n",
              "      <th>2851</th>\n",
              "      <td>Zuora Inc</td>\n",
              "      <td>ZUO</td>\n",
              "    </tr>\n",
              "    <tr>\n",
              "      <th>2852</th>\n",
              "      <td>Zayo Group Holdings Inc</td>\n",
              "      <td>ZAYO</td>\n",
              "    </tr>\n",
              "    <tr>\n",
              "      <th>2853</th>\n",
              "      <td>Zimmer Biomet Holdings Inc</td>\n",
              "      <td>ZBH</td>\n",
              "    </tr>\n",
              "    <tr>\n",
              "      <th>2854</th>\n",
              "      <td>Zoetis Inc</td>\n",
              "      <td>ZTS</td>\n",
              "    </tr>\n",
              "    <tr>\n",
              "      <th>2855</th>\n",
              "      <td>Zymeworks Inc</td>\n",
              "      <td>ZYME</td>\n",
              "    </tr>\n",
              "  </tbody>\n",
              "</table>\n",
              "<p>2856 rows × 2 columns</p>\n",
              "</div>"
            ],
            "text/plain": [
              "                    company_name company_ticker\n",
              "0           A H Belo Corporation            AHC\n",
              "1               AAC Holdings Inc            AAC\n",
              "2                        ABB Ltd            ABB\n",
              "3            ADC Therapeutics SA           ADCT\n",
              "4         AEABridges Impact Corp           IMPX\n",
              "...                          ...            ...\n",
              "2851                   Zuora Inc            ZUO\n",
              "2852     Zayo Group Holdings Inc           ZAYO\n",
              "2853  Zimmer Biomet Holdings Inc            ZBH\n",
              "2854                  Zoetis Inc            ZTS\n",
              "2855               Zymeworks Inc           ZYME\n",
              "\n",
              "[2856 rows x 2 columns]"
            ]
          },
          "metadata": {
            "tags": []
          },
          "execution_count": 61
        }
      ]
    }
  ]
}